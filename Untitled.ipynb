{
 "cells": [
  {
   "cell_type": "code",
   "execution_count": 32,
   "metadata": {},
   "outputs": [],
   "source": [
    "from datetime import date\n",
    "from datetime import timedelta\n",
    "import time\n",
    "import pandas as pd\n",
    "from pathlib import Path\n"
   ]
  },
  {
   "cell_type": "code",
   "execution_count": 33,
   "metadata": {},
   "outputs": [
    {
     "name": "stdout",
     "output_type": "stream",
     "text": [
      "2020-05-03\n"
     ]
    }
   ],
   "source": [
    "today=date.today()\n",
    "print(today)"
   ]
  },
  {
   "cell_type": "code",
   "execution_count": 34,
   "metadata": {},
   "outputs": [
    {
     "name": "stdout",
     "output_type": "stream",
     "text": [
      "2020-05-02\n",
      "02-05-2020\n"
     ]
    },
    {
     "data": {
      "text/plain": [
       "str"
      ]
     },
     "execution_count": 34,
     "metadata": {},
     "output_type": "execute_result"
    }
   ],
   "source": [
    "yesterday=date.today()-timedelta(days=1)\n",
    "print(yesterday)\n",
    "ydate=yesterday.strftime(\"%d-%m-%Y\")\n",
    "print(ydate)\n",
    "type(ydate)"
   ]
  },
  {
   "cell_type": "code",
   "execution_count": 35,
   "metadata": {},
   "outputs": [
    {
     "name": "stdout",
     "output_type": "stream",
     "text": [
      "02-05-2020 file\n"
     ]
    }
   ],
   "source": [
    "fname=ydate+\" file\"\n",
    "print(fname)"
   ]
  },
  {
   "cell_type": "code",
   "execution_count": 40,
   "metadata": {},
   "outputs": [
    {
     "data": {
      "text/html": [
       "<div>\n",
       "<style scoped>\n",
       "    .dataframe tbody tr th:only-of-type {\n",
       "        vertical-align: middle;\n",
       "    }\n",
       "\n",
       "    .dataframe tbody tr th {\n",
       "        vertical-align: top;\n",
       "    }\n",
       "\n",
       "    .dataframe thead th {\n",
       "        text-align: right;\n",
       "    }\n",
       "</style>\n",
       "<table border=\"1\" class=\"dataframe\">\n",
       "  <thead>\n",
       "    <tr style=\"text-align: right;\">\n",
       "      <th></th>\n",
       "      <th>Patient Number</th>\n",
       "      <th>State Patient Number</th>\n",
       "      <th>Date Announced</th>\n",
       "      <th>Age Bracket</th>\n",
       "      <th>Gender</th>\n",
       "      <th>Detected City</th>\n",
       "      <th>Detected District</th>\n",
       "      <th>Detected State</th>\n",
       "      <th>State code</th>\n",
       "      <th>Current Status</th>\n",
       "      <th>Notes</th>\n",
       "      <th>Contracted from which Patient (Suspected)</th>\n",
       "      <th>Nationality</th>\n",
       "      <th>Type of transmission</th>\n",
       "      <th>Status Change Date</th>\n",
       "      <th>Source_1</th>\n",
       "      <th>Source_2</th>\n",
       "      <th>Source_3</th>\n",
       "      <th>Backup Notes</th>\n",
       "    </tr>\n",
       "  </thead>\n",
       "  <tbody>\n",
       "    <tr>\n",
       "      <th>0</th>\n",
       "      <td>1</td>\n",
       "      <td>KL-TS-P1</td>\n",
       "      <td>30-01-2020</td>\n",
       "      <td>20</td>\n",
       "      <td>F</td>\n",
       "      <td>Thrissur</td>\n",
       "      <td>Thrissur</td>\n",
       "      <td>Kerala</td>\n",
       "      <td>KL</td>\n",
       "      <td>Recovered</td>\n",
       "      <td>Travelled from Wuhan</td>\n",
       "      <td>NaN</td>\n",
       "      <td>India</td>\n",
       "      <td>Imported</td>\n",
       "      <td>14-02-2020</td>\n",
       "      <td>https://twitter.com/vijayanpinarayi/status/122...</td>\n",
       "      <td>https://weather.com/en-IN/india/news/news/2020...</td>\n",
       "      <td>NaN</td>\n",
       "      <td>Student from Wuhan</td>\n",
       "    </tr>\n",
       "    <tr>\n",
       "      <th>1</th>\n",
       "      <td>2</td>\n",
       "      <td>KL-AL-P1</td>\n",
       "      <td>02-02-2020</td>\n",
       "      <td>NaN</td>\n",
       "      <td>NaN</td>\n",
       "      <td>Alappuzha</td>\n",
       "      <td>Alappuzha</td>\n",
       "      <td>Kerala</td>\n",
       "      <td>KL</td>\n",
       "      <td>Recovered</td>\n",
       "      <td>Travelled from Wuhan</td>\n",
       "      <td>NaN</td>\n",
       "      <td>India</td>\n",
       "      <td>Imported</td>\n",
       "      <td>14-02-2020</td>\n",
       "      <td>https://www.indiatoday.in/india/story/kerala-r...</td>\n",
       "      <td>https://weather.com/en-IN/india/news/news/2020...</td>\n",
       "      <td>NaN</td>\n",
       "      <td>Student from Wuhan</td>\n",
       "    </tr>\n",
       "    <tr>\n",
       "      <th>2</th>\n",
       "      <td>3</td>\n",
       "      <td>KL-KS-P1</td>\n",
       "      <td>03-02-2020</td>\n",
       "      <td>NaN</td>\n",
       "      <td>NaN</td>\n",
       "      <td>Kasaragod</td>\n",
       "      <td>Kasaragod</td>\n",
       "      <td>Kerala</td>\n",
       "      <td>KL</td>\n",
       "      <td>Recovered</td>\n",
       "      <td>Travelled from Wuhan</td>\n",
       "      <td>NaN</td>\n",
       "      <td>India</td>\n",
       "      <td>Imported</td>\n",
       "      <td>14-02-2020</td>\n",
       "      <td>https://www.indiatoday.in/india/story/kerala-n...</td>\n",
       "      <td>https://twitter.com/ANI/status/122422148580539...</td>\n",
       "      <td>https://weather.com/en-IN/india/news/news/2020...</td>\n",
       "      <td>Student from Wuhan</td>\n",
       "    </tr>\n",
       "    <tr>\n",
       "      <th>3</th>\n",
       "      <td>4</td>\n",
       "      <td>DL-P1</td>\n",
       "      <td>02-03-2020</td>\n",
       "      <td>45</td>\n",
       "      <td>M</td>\n",
       "      <td>East Delhi (Mayur Vihar)</td>\n",
       "      <td>East Delhi</td>\n",
       "      <td>Delhi</td>\n",
       "      <td>DL</td>\n",
       "      <td>Recovered</td>\n",
       "      <td>Travelled from Austria, Italy</td>\n",
       "      <td>NaN</td>\n",
       "      <td>India</td>\n",
       "      <td>Imported</td>\n",
       "      <td>15-03-2020</td>\n",
       "      <td>https://www.indiatoday.in/india/story/not-a-ja...</td>\n",
       "      <td>https://economictimes.indiatimes.com/news/poli...</td>\n",
       "      <td>NaN</td>\n",
       "      <td>Travel history to Italy and Austria</td>\n",
       "    </tr>\n",
       "    <tr>\n",
       "      <th>4</th>\n",
       "      <td>5</td>\n",
       "      <td>TS-P1</td>\n",
       "      <td>02-03-2020</td>\n",
       "      <td>24</td>\n",
       "      <td>M</td>\n",
       "      <td>Hyderabad</td>\n",
       "      <td>Hyderabad</td>\n",
       "      <td>Telangana</td>\n",
       "      <td>TG</td>\n",
       "      <td>Recovered</td>\n",
       "      <td>Travelled from Dubai to Bangalore on 20th Feb,...</td>\n",
       "      <td>NaN</td>\n",
       "      <td>India</td>\n",
       "      <td>Imported</td>\n",
       "      <td>02-03-2020</td>\n",
       "      <td>https://www.deccanherald.com/national/south/qu...</td>\n",
       "      <td>https://www.indiatoday.in/india/story/coronavi...</td>\n",
       "      <td>https://www.thehindu.com/news/national/coronav...</td>\n",
       "      <td>Travel history to Dubai, Singapore contact</td>\n",
       "    </tr>\n",
       "  </tbody>\n",
       "</table>\n",
       "</div>"
      ],
      "text/plain": [
       "   Patient Number State Patient Number Date Announced Age Bracket Gender  \\\n",
       "0               1             KL-TS-P1     30-01-2020          20      F   \n",
       "1               2             KL-AL-P1     02-02-2020         NaN    NaN   \n",
       "2               3             KL-KS-P1     03-02-2020         NaN    NaN   \n",
       "3               4                DL-P1     02-03-2020          45      M   \n",
       "4               5                TS-P1     02-03-2020          24      M   \n",
       "\n",
       "              Detected City Detected District Detected State State code  \\\n",
       "0                  Thrissur          Thrissur         Kerala         KL   \n",
       "1                 Alappuzha         Alappuzha         Kerala         KL   \n",
       "2                 Kasaragod         Kasaragod         Kerala         KL   \n",
       "3  East Delhi (Mayur Vihar)        East Delhi          Delhi         DL   \n",
       "4                 Hyderabad         Hyderabad      Telangana         TG   \n",
       "\n",
       "  Current Status                                              Notes  \\\n",
       "0      Recovered                               Travelled from Wuhan   \n",
       "1      Recovered                               Travelled from Wuhan   \n",
       "2      Recovered                               Travelled from Wuhan   \n",
       "3      Recovered                      Travelled from Austria, Italy   \n",
       "4      Recovered  Travelled from Dubai to Bangalore on 20th Feb,...   \n",
       "\n",
       "  Contracted from which Patient (Suspected) Nationality Type of transmission  \\\n",
       "0                                       NaN       India             Imported   \n",
       "1                                       NaN       India             Imported   \n",
       "2                                       NaN       India             Imported   \n",
       "3                                       NaN       India             Imported   \n",
       "4                                       NaN       India             Imported   \n",
       "\n",
       "  Status Change Date                                           Source_1  \\\n",
       "0         14-02-2020  https://twitter.com/vijayanpinarayi/status/122...   \n",
       "1         14-02-2020  https://www.indiatoday.in/india/story/kerala-r...   \n",
       "2         14-02-2020  https://www.indiatoday.in/india/story/kerala-n...   \n",
       "3         15-03-2020  https://www.indiatoday.in/india/story/not-a-ja...   \n",
       "4         02-03-2020  https://www.deccanherald.com/national/south/qu...   \n",
       "\n",
       "                                            Source_2  \\\n",
       "0  https://weather.com/en-IN/india/news/news/2020...   \n",
       "1  https://weather.com/en-IN/india/news/news/2020...   \n",
       "2  https://twitter.com/ANI/status/122422148580539...   \n",
       "3  https://economictimes.indiatimes.com/news/poli...   \n",
       "4  https://www.indiatoday.in/india/story/coronavi...   \n",
       "\n",
       "                                            Source_3  \\\n",
       "0                                                NaN   \n",
       "1                                                NaN   \n",
       "2  https://weather.com/en-IN/india/news/news/2020...   \n",
       "3                                                NaN   \n",
       "4  https://www.thehindu.com/news/national/coronav...   \n",
       "\n",
       "                                 Backup Notes  \n",
       "0                          Student from Wuhan  \n",
       "1                          Student from Wuhan  \n",
       "2                          Student from Wuhan  \n",
       "3         Travel history to Italy and Austria  \n",
       "4  Travel history to Dubai, Singapore contact  "
      ]
     },
     "execution_count": 40,
     "metadata": {},
     "output_type": "execute_result"
    }
   ],
   "source": [
    "#Folder path\n",
    "data_folder = Path(\"C:/Users/joses/Nextcloud/JOSEPH/COVID19INDIAORG ANALYSIS/PYTHON APPROACH/PYTHON CODE/data/\")\n",
    "data_file = ydate + \".csv\"\n",
    "file_path = data_folder / data_file\n",
    "df=pd.read_csv(file_path)\n",
    "df.head()"
   ]
  },
  {
   "cell_type": "code",
   "execution_count": 52,
   "metadata": {},
   "outputs": [
    {
     "name": "stdout",
     "output_type": "stream",
     "text": [
      "C:\\Users\\joses\\Nextcloud\\JOSEPH\\COVID19INDIAORG ANALYSIS\\PYTHON APPROACH\\PYTHON CODE\\exports\\02-05-2020-State Daily.csv\n",
      "C:\\Users\\joses\\Nextcloud\\JOSEPH\\COVID19INDIAORG ANALYSIS\\PYTHON APPROACH\\PYTHON CODE\\exports\\02-05-2020-State Cumulative.csv\n"
     ]
    }
   ],
   "source": [
    "#Specify Export folder \n",
    "export_folder = Path(\"C:/Users/joses/Nextcloud/JOSEPH/COVID19INDIAORG ANALYSIS/PYTHON APPROACH/PYTHON CODE/exports/\")\n",
    "\n",
    "#File Name for States Daily and file path\n",
    "fnsd = ydate + \"-State Daily.csv\"\n",
    "fpsd = export_folder / fnsd\n",
    "\n",
    "#File Name for States Cumulative and filepath \n",
    "fnsc = ydate + \"-State Cumulative.csv\"\n",
    "fpsc = export_folder / fnsc\n",
    "\n",
    "print(fpsd)\n",
    "print(fpsc)"
   ]
  },
  {
   "cell_type": "code",
   "execution_count": 50,
   "metadata": {},
   "outputs": [
    {
     "name": "stdout",
     "output_type": "stream",
     "text": [
      "C:\\Users\\joses\\Nextcloud\\JOSEPH\\COVID19INDIAORG ANALYSIS\\PYTHON APPROACH\\PYTHON CODE\\data\\02-05-2020.csv\n"
     ]
    }
   ],
   "source": [
    "data_folder = Path(\"C:/Users/joses/Nextcloud/JOSEPH/COVID19INDIAORG ANALYSIS/PYTHON APPROACH/PYTHON CODE/data/\")\n",
    "data_file = ydate + \".csv\"\n",
    "file_path = data_folder / data_file\n",
    "print(file_path)"
   ]
  },
  {
   "cell_type": "code",
   "execution_count": 48,
   "metadata": {},
   "outputs": [
    {
     "ename": "NameError",
     "evalue": "name 'fpsd' is not defined",
     "output_type": "error",
     "traceback": [
      "\u001b[1;31m---------------------------------------------------------------------------\u001b[0m",
      "\u001b[1;31mNameError\u001b[0m                                 Traceback (most recent call last)",
      "\u001b[1;32m<ipython-input-48-6a38d0736fbd>\u001b[0m in \u001b[0;36m<module>\u001b[1;34m\u001b[0m\n\u001b[1;32m----> 1\u001b[1;33m \u001b[0mprint\u001b[0m\u001b[1;33m(\u001b[0m\u001b[0mfpsd\u001b[0m\u001b[1;33m)\u001b[0m\u001b[1;33m\u001b[0m\u001b[1;33m\u001b[0m\u001b[0m\n\u001b[0m",
      "\u001b[1;31mNameError\u001b[0m: name 'fpsd' is not defined"
     ]
    }
   ],
   "source": []
  },
  {
   "cell_type": "code",
   "execution_count": null,
   "metadata": {},
   "outputs": [],
   "source": []
  }
 ],
 "metadata": {
  "kernelspec": {
   "display_name": "Python 3",
   "language": "python",
   "name": "python3"
  },
  "language_info": {
   "codemirror_mode": {
    "name": "ipython",
    "version": 3
   },
   "file_extension": ".py",
   "mimetype": "text/x-python",
   "name": "python",
   "nbconvert_exporter": "python",
   "pygments_lexer": "ipython3",
   "version": "3.7.1"
  }
 },
 "nbformat": 4,
 "nbformat_minor": 2
}
