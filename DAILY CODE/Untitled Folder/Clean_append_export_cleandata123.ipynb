{
 "cells": [
  {
   "cell_type": "code",
   "execution_count": 1,
   "metadata": {},
   "outputs": [],
   "source": [
    "import pandas as pd\n",
    "import numpy as np\n",
    "import matplotlib as mpl\n",
    "import matplotlib.pyplot as plt\n",
    "from datetime import date\n",
    "from datetime import timedelta\n",
    "import time\n",
    "%matplotlib inline\n",
    "from pathlib import Path "
   ]
  },
  {
   "cell_type": "code",
   "execution_count": 2,
   "metadata": {},
   "outputs": [],
   "source": [
    "#Find yesterday's date and convert it to string\n",
    "today=date.today()\n",
    "yesterday=today-timedelta(days=1)\n",
    "ydate=yesterday.strftime(\"%d-%m-%Y\")"
   ]
  },
  {
   "cell_type": "code",
   "execution_count": 3,
   "metadata": {},
   "outputs": [],
   "source": [
    "#Specify Data folder\n",
    "data_folder1 = Path(\"C:/Users/joses/Nextcloud/JOSEPH/COVID19INDIAORG ANALYSIS/PYTHON APPROACH/PYTHON CODE/data/raw data\")\n",
    "#Compute complete filepath for the day\n",
    "file_path1 = data_folder1 / \"clean_data1&2.csv\"\n",
    "\n",
    "#Read file to data frame\n",
    "df1=pd.read_csv(file_path1)\n",
    "#Renames the column for easy manipulation\n",
    "df1.rename(columns={'Current Status':'Current_Status', 'Date Announced':'Date','Detected State':'State', 'Num Cases':'Num_Cases'}, inplace=True) \n",
    "#Chooses the specified columns for further manipulation\n",
    "df1=df1[['Entry_ID', 'Date', 'State', 'Num_Cases', 'Current_Status']]\n"
   ]
  },
  {
   "cell_type": "code",
   "execution_count": 4,
   "metadata": {},
   "outputs": [],
   "source": [
    "#Specify url to download current raw_data3 into dataframe\n",
    "url=\"https://api.covid19india.org/csv/latest/raw_data3.csv\"\n",
    "df2=pd.read_csv(url)\n",
    "\n",
    "#Clean dataframe2\n",
    "df2=df2.dropna(subset=['Num Cases']) #Drops rows with no entry for Num Cases\n",
    "df2=df2.dropna(subset=['Detected State']) #Drops rows with no entry for Detected State\n",
    "#Renames the column for easy manipulation\n",
    "df2.rename(columns={'Current Status':'Current_Status', 'Date Announced':'Date','Detected State':'State', 'Num Cases':'Num_Cases'}, inplace=True) \n",
    "#Drops Recovered and Deceased fromthe data frame\n",
    "df2=df2[df2.Current_Status=='Hospitalized'] \n",
    "#Chooses the specified columns for further manipulation\n",
    "df2=df2[['Entry_ID', 'Date', 'State', 'Num_Cases', 'Current_Status']] "
   ]
  },
  {
   "cell_type": "code",
   "execution_count": 5,
   "metadata": {},
   "outputs": [],
   "source": [
    "#Join both dataframes into 1\n",
    "frames=[df1, df2]\n",
    "df=pd.concat(frames)"
   ]
  },
  {
   "cell_type": "code",
   "execution_count": 6,
   "metadata": {},
   "outputs": [
    {
     "data": {
      "text/html": [
       "<div>\n",
       "<style scoped>\n",
       "    .dataframe tbody tr th:only-of-type {\n",
       "        vertical-align: middle;\n",
       "    }\n",
       "\n",
       "    .dataframe tbody tr th {\n",
       "        vertical-align: top;\n",
       "    }\n",
       "\n",
       "    .dataframe thead th {\n",
       "        text-align: right;\n",
       "    }\n",
       "</style>\n",
       "<table border=\"1\" class=\"dataframe\">\n",
       "  <thead>\n",
       "    <tr style=\"text-align: right;\">\n",
       "      <th></th>\n",
       "      <th>Entry_ID</th>\n",
       "      <th>Date</th>\n",
       "      <th>State</th>\n",
       "      <th>Num_Cases</th>\n",
       "      <th>Current_Status</th>\n",
       "    </tr>\n",
       "  </thead>\n",
       "  <tbody>\n",
       "    <tr>\n",
       "      <th>0</th>\n",
       "      <td>1.0</td>\n",
       "      <td>30-01-2020</td>\n",
       "      <td>Kerala</td>\n",
       "      <td>1.0</td>\n",
       "      <td>Hospitalized</td>\n",
       "    </tr>\n",
       "    <tr>\n",
       "      <th>1</th>\n",
       "      <td>2.0</td>\n",
       "      <td>02-02-2020</td>\n",
       "      <td>Kerala</td>\n",
       "      <td>1.0</td>\n",
       "      <td>Hospitalized</td>\n",
       "    </tr>\n",
       "    <tr>\n",
       "      <th>2</th>\n",
       "      <td>3.0</td>\n",
       "      <td>03-02-2020</td>\n",
       "      <td>Kerala</td>\n",
       "      <td>1.0</td>\n",
       "      <td>Hospitalized</td>\n",
       "    </tr>\n",
       "    <tr>\n",
       "      <th>3</th>\n",
       "      <td>4.0</td>\n",
       "      <td>02-03-2020</td>\n",
       "      <td>Delhi</td>\n",
       "      <td>1.0</td>\n",
       "      <td>Hospitalized</td>\n",
       "    </tr>\n",
       "    <tr>\n",
       "      <th>4</th>\n",
       "      <td>5.0</td>\n",
       "      <td>02-03-2020</td>\n",
       "      <td>Telangana</td>\n",
       "      <td>1.0</td>\n",
       "      <td>Hospitalized</td>\n",
       "    </tr>\n",
       "  </tbody>\n",
       "</table>\n",
       "</div>"
      ],
      "text/plain": [
       "   Entry_ID        Date      State  Num_Cases Current_Status\n",
       "0       1.0  30-01-2020     Kerala        1.0   Hospitalized\n",
       "1       2.0  02-02-2020     Kerala        1.0   Hospitalized\n",
       "2       3.0  03-02-2020     Kerala        1.0   Hospitalized\n",
       "3       4.0  02-03-2020      Delhi        1.0   Hospitalized\n",
       "4       5.0  02-03-2020  Telangana        1.0   Hospitalized"
      ]
     },
     "execution_count": 6,
     "metadata": {},
     "output_type": "execute_result"
    }
   ],
   "source": [
    "df.head()"
   ]
  },
  {
   "cell_type": "code",
   "execution_count": 10,
   "metadata": {},
   "outputs": [
    {
     "data": {
      "text/html": [
       "<div>\n",
       "<style scoped>\n",
       "    .dataframe tbody tr th:only-of-type {\n",
       "        vertical-align: middle;\n",
       "    }\n",
       "\n",
       "    .dataframe tbody tr th {\n",
       "        vertical-align: top;\n",
       "    }\n",
       "\n",
       "    .dataframe thead th {\n",
       "        text-align: right;\n",
       "    }\n",
       "</style>\n",
       "<table border=\"1\" class=\"dataframe\">\n",
       "  <thead>\n",
       "    <tr style=\"text-align: right;\">\n",
       "      <th></th>\n",
       "      <th>Entry_ID</th>\n",
       "      <th>Date</th>\n",
       "      <th>State</th>\n",
       "      <th>Num_Cases</th>\n",
       "      <th>Current_Status</th>\n",
       "    </tr>\n",
       "  </thead>\n",
       "  <tbody>\n",
       "    <tr>\n",
       "      <th>10001</th>\n",
       "      <td>10002.0</td>\n",
       "      <td>09/05/2020</td>\n",
       "      <td>Odisha</td>\n",
       "      <td>1.0</td>\n",
       "      <td>Hospitalized</td>\n",
       "    </tr>\n",
       "    <tr>\n",
       "      <th>10002</th>\n",
       "      <td>10003.0</td>\n",
       "      <td>09/05/2020</td>\n",
       "      <td>Odisha</td>\n",
       "      <td>1.0</td>\n",
       "      <td>Hospitalized</td>\n",
       "    </tr>\n",
       "    <tr>\n",
       "      <th>10003</th>\n",
       "      <td>10004.0</td>\n",
       "      <td>09/05/2020</td>\n",
       "      <td>Odisha</td>\n",
       "      <td>1.0</td>\n",
       "      <td>Hospitalized</td>\n",
       "    </tr>\n",
       "    <tr>\n",
       "      <th>10004</th>\n",
       "      <td>10005.0</td>\n",
       "      <td>09/05/2020</td>\n",
       "      <td>Odisha</td>\n",
       "      <td>1.0</td>\n",
       "      <td>Hospitalized</td>\n",
       "    </tr>\n",
       "    <tr>\n",
       "      <th>10005</th>\n",
       "      <td>10006.0</td>\n",
       "      <td>09/05/2020</td>\n",
       "      <td>Odisha</td>\n",
       "      <td>1.0</td>\n",
       "      <td>Hospitalized</td>\n",
       "    </tr>\n",
       "    <tr>\n",
       "      <th>10006</th>\n",
       "      <td>10007.0</td>\n",
       "      <td>09/05/2020</td>\n",
       "      <td>Assam</td>\n",
       "      <td>-1.0</td>\n",
       "      <td>Hospitalized</td>\n",
       "    </tr>\n",
       "    <tr>\n",
       "      <th>10008</th>\n",
       "      <td>NaN</td>\n",
       "      <td>27/04/2020</td>\n",
       "      <td>Punjab</td>\n",
       "      <td>9.0</td>\n",
       "      <td>Hospitalized</td>\n",
       "    </tr>\n",
       "    <tr>\n",
       "      <th>10009</th>\n",
       "      <td>NaN</td>\n",
       "      <td>27/04/2020</td>\n",
       "      <td>Punjab</td>\n",
       "      <td>-9.0</td>\n",
       "      <td>Hospitalized</td>\n",
       "    </tr>\n",
       "    <tr>\n",
       "      <th>10010</th>\n",
       "      <td>NaN</td>\n",
       "      <td>27/04/2020</td>\n",
       "      <td>Punjab</td>\n",
       "      <td>1.0</td>\n",
       "      <td>Hospitalized</td>\n",
       "    </tr>\n",
       "    <tr>\n",
       "      <th>10011</th>\n",
       "      <td>NaN</td>\n",
       "      <td>27/04/2020</td>\n",
       "      <td>Punjab</td>\n",
       "      <td>-1.0</td>\n",
       "      <td>Hospitalized</td>\n",
       "    </tr>\n",
       "  </tbody>\n",
       "</table>\n",
       "</div>"
      ],
      "text/plain": [
       "       Entry_ID        Date   State  Num_Cases Current_Status\n",
       "10001   10002.0  09/05/2020  Odisha        1.0   Hospitalized\n",
       "10002   10003.0  09/05/2020  Odisha        1.0   Hospitalized\n",
       "10003   10004.0  09/05/2020  Odisha        1.0   Hospitalized\n",
       "10004   10005.0  09/05/2020  Odisha        1.0   Hospitalized\n",
       "10005   10006.0  09/05/2020  Odisha        1.0   Hospitalized\n",
       "10006   10007.0  09/05/2020   Assam       -1.0   Hospitalized\n",
       "10008       NaN  27/04/2020  Punjab        9.0   Hospitalized\n",
       "10009       NaN  27/04/2020  Punjab       -9.0   Hospitalized\n",
       "10010       NaN  27/04/2020  Punjab        1.0   Hospitalized\n",
       "10011       NaN  27/04/2020  Punjab       -1.0   Hospitalized"
      ]
     },
     "execution_count": 10,
     "metadata": {},
     "output_type": "execute_result"
    }
   ],
   "source": [
    "df.tail(10)"
   ]
  },
  {
   "cell_type": "code",
   "execution_count": 8,
   "metadata": {},
   "outputs": [],
   "source": [
    "#Specify Data folder\n",
    "data_folder2 = Path(\"C:/Users/joses/Nextcloud/JOSEPH/COVID19INDIAORG ANALYSIS/PYTHON APPROACH/PYTHON CODE/data/raw data\")\n",
    "fname2 = \"clean_data123.csv\"\n",
    "file_path2 = data_folder2 / fname2\n",
    "\n",
    "#Export to CSV\n",
    "df.to_csv(file_path2)"
   ]
  },
  {
   "cell_type": "code",
   "execution_count": 9,
   "metadata": {},
   "outputs": [
    {
     "name": "stdout",
     "output_type": "stream",
     "text": [
      "<class 'pandas.core.frame.DataFrame'>\n",
      "Int64Index: 7863 entries, 0 to 10011\n",
      "Data columns (total 5 columns):\n",
      "Entry_ID          7859 non-null float64\n",
      "Date              7863 non-null object\n",
      "State             7863 non-null object\n",
      "Num_Cases         7863 non-null float64\n",
      "Current_Status    7863 non-null object\n",
      "dtypes: float64(2), object(3)\n",
      "memory usage: 368.6+ KB\n"
     ]
    }
   ],
   "source": [
    "df2.info()"
   ]
  },
  {
   "cell_type": "code",
   "execution_count": null,
   "metadata": {},
   "outputs": [],
   "source": []
  },
  {
   "cell_type": "code",
   "execution_count": null,
   "metadata": {},
   "outputs": [],
   "source": []
  }
 ],
 "metadata": {
  "kernelspec": {
   "display_name": "Python 3",
   "language": "python",
   "name": "python3"
  },
  "language_info": {
   "codemirror_mode": {
    "name": "ipython",
    "version": 3
   },
   "file_extension": ".py",
   "mimetype": "text/x-python",
   "name": "python",
   "nbconvert_exporter": "python",
   "pygments_lexer": "ipython3",
   "version": "3.7.1"
  }
 },
 "nbformat": 4,
 "nbformat_minor": 2
}
