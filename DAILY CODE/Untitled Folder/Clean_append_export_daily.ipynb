{
 "cells": [
  {
   "cell_type": "code",
   "execution_count": 5,
   "metadata": {},
   "outputs": [],
   "source": [
    "import pandas as pd\n",
    "import numpy as np\n",
    "import matplotlib as mpl\n",
    "import matplotlib.pyplot as plt\n",
    "from datetime import date\n",
    "from datetime import timedelta\n",
    "import time\n",
    "%matplotlib inline\n",
    "from pathlib import Path "
   ]
  },
  {
   "cell_type": "code",
   "execution_count": 6,
   "metadata": {},
   "outputs": [],
   "source": [
    "#Find yesterday's date and convert it to string\n",
    "today=date.today()\n",
    "yesterday=today-timedelta(days=1)\n",
    "ydate=yesterday.strftime(\"%d-%m-%Y\")"
   ]
  },
  {
   "cell_type": "code",
   "execution_count": 7,
   "metadata": {},
   "outputs": [],
   "source": [
    "#Specify Data folder\n",
    "data_folder1 = Path(\"../data/raw data\")\n",
    "#Compute complete filepath for the day\n",
    "file_path1 = data_folder1 / \"clean_data123.csv\"\n",
    "\n",
    "#Read file to data frame\n",
    "df1=pd.read_csv(file_path1)\n",
    "\n",
    "#Chooses the specified columns for further manipulation\n",
    "df1=df1[['Entry_ID', 'Date', 'State', 'Num_Cases', 'Current_Status']]\n"
   ]
  },
  {
   "cell_type": "code",
   "execution_count": 8,
   "metadata": {},
   "outputs": [],
   "source": [
    "#Specify url to download current raw_data3 into dataframe\n",
    "url=\"https://api.covid19india.org/csv/latest/raw_data4.csv\"\n",
    "df2=pd.read_csv(url)\n",
    "\n",
    "#Clean dataframe2\n",
    "df2=df2.dropna(subset=['Num Cases']) #Drops rows with no entry for Num Cases\n",
    "df2=df2.dropna(subset=['Detected State']) #Drops rows with no entry for Detected State\n",
    "#Renames the column for easy manipulation\n",
    "df2.rename(columns={'Current Status':'Current_Status', 'Date Announced':'Date','Detected State':'State', 'Num Cases':'Num_Cases'}, inplace=True) \n",
    "#Drops Recovered and Deceased fromthe data frame\n",
    "df2=df2[df2.Current_Status=='Hospitalized'] \n",
    "#Chooses the specified columns for further manipulation\n",
    "df2=df2[['Entry_ID', 'Date', 'State', 'Num_Cases', 'Current_Status']] "
   ]
  },
  {
   "cell_type": "code",
   "execution_count": 9,
   "metadata": {},
   "outputs": [],
   "source": [
    "#Join both dataframes into 1\n",
    "frames=[df1, df2]\n",
    "df=pd.concat(frames)"
   ]
  },
  {
   "cell_type": "code",
   "execution_count": 10,
   "metadata": {},
   "outputs": [
    {
     "data": {
      "text/html": [
       "<div>\n",
       "<style scoped>\n",
       "    .dataframe tbody tr th:only-of-type {\n",
       "        vertical-align: middle;\n",
       "    }\n",
       "\n",
       "    .dataframe tbody tr th {\n",
       "        vertical-align: top;\n",
       "    }\n",
       "\n",
       "    .dataframe thead th {\n",
       "        text-align: right;\n",
       "    }\n",
       "</style>\n",
       "<table border=\"1\" class=\"dataframe\">\n",
       "  <thead>\n",
       "    <tr style=\"text-align: right;\">\n",
       "      <th></th>\n",
       "      <th>Entry_ID</th>\n",
       "      <th>Date</th>\n",
       "      <th>State</th>\n",
       "      <th>Num_Cases</th>\n",
       "      <th>Current_Status</th>\n",
       "    </tr>\n",
       "  </thead>\n",
       "  <tbody>\n",
       "    <tr>\n",
       "      <th>0</th>\n",
       "      <td>1.0</td>\n",
       "      <td>30-01-2020</td>\n",
       "      <td>Kerala</td>\n",
       "      <td>1.0</td>\n",
       "      <td>Hospitalized</td>\n",
       "    </tr>\n",
       "    <tr>\n",
       "      <th>1</th>\n",
       "      <td>2.0</td>\n",
       "      <td>02-02-2020</td>\n",
       "      <td>Kerala</td>\n",
       "      <td>1.0</td>\n",
       "      <td>Hospitalized</td>\n",
       "    </tr>\n",
       "    <tr>\n",
       "      <th>2</th>\n",
       "      <td>3.0</td>\n",
       "      <td>03-02-2020</td>\n",
       "      <td>Kerala</td>\n",
       "      <td>1.0</td>\n",
       "      <td>Hospitalized</td>\n",
       "    </tr>\n",
       "    <tr>\n",
       "      <th>3</th>\n",
       "      <td>4.0</td>\n",
       "      <td>02-03-2020</td>\n",
       "      <td>Delhi</td>\n",
       "      <td>1.0</td>\n",
       "      <td>Hospitalized</td>\n",
       "    </tr>\n",
       "    <tr>\n",
       "      <th>4</th>\n",
       "      <td>5.0</td>\n",
       "      <td>02-03-2020</td>\n",
       "      <td>Telangana</td>\n",
       "      <td>1.0</td>\n",
       "      <td>Hospitalized</td>\n",
       "    </tr>\n",
       "  </tbody>\n",
       "</table>\n",
       "</div>"
      ],
      "text/plain": [
       "   Entry_ID        Date      State  Num_Cases Current_Status\n",
       "0       1.0  30-01-2020     Kerala        1.0   Hospitalized\n",
       "1       2.0  02-02-2020     Kerala        1.0   Hospitalized\n",
       "2       3.0  03-02-2020     Kerala        1.0   Hospitalized\n",
       "3       4.0  02-03-2020      Delhi        1.0   Hospitalized\n",
       "4       5.0  02-03-2020  Telangana        1.0   Hospitalized"
      ]
     },
     "execution_count": 10,
     "metadata": {},
     "output_type": "execute_result"
    }
   ],
   "source": [
    "df.head()"
   ]
  },
  {
   "cell_type": "code",
   "execution_count": 11,
   "metadata": {},
   "outputs": [
    {
     "data": {
      "text/html": [
       "<div>\n",
       "<style scoped>\n",
       "    .dataframe tbody tr th:only-of-type {\n",
       "        vertical-align: middle;\n",
       "    }\n",
       "\n",
       "    .dataframe tbody tr th {\n",
       "        vertical-align: top;\n",
       "    }\n",
       "\n",
       "    .dataframe thead th {\n",
       "        text-align: right;\n",
       "    }\n",
       "</style>\n",
       "<table border=\"1\" class=\"dataframe\">\n",
       "  <thead>\n",
       "    <tr style=\"text-align: right;\">\n",
       "      <th></th>\n",
       "      <th>Entry_ID</th>\n",
       "      <th>Date</th>\n",
       "      <th>State</th>\n",
       "      <th>Num_Cases</th>\n",
       "      <th>Current_Status</th>\n",
       "    </tr>\n",
       "  </thead>\n",
       "  <tbody>\n",
       "    <tr>\n",
       "      <th>4790</th>\n",
       "      <td>14799.0</td>\n",
       "      <td>14/05/2020</td>\n",
       "      <td>Karnataka</td>\n",
       "      <td>1.0</td>\n",
       "      <td>Hospitalized</td>\n",
       "    </tr>\n",
       "    <tr>\n",
       "      <th>4791</th>\n",
       "      <td>14800.0</td>\n",
       "      <td>14/05/2020</td>\n",
       "      <td>Karnataka</td>\n",
       "      <td>1.0</td>\n",
       "      <td>Hospitalized</td>\n",
       "    </tr>\n",
       "    <tr>\n",
       "      <th>4792</th>\n",
       "      <td>14801.0</td>\n",
       "      <td>14/05/2020</td>\n",
       "      <td>Karnataka</td>\n",
       "      <td>1.0</td>\n",
       "      <td>Hospitalized</td>\n",
       "    </tr>\n",
       "    <tr>\n",
       "      <th>4793</th>\n",
       "      <td>14802.0</td>\n",
       "      <td>14/05/2020</td>\n",
       "      <td>Karnataka</td>\n",
       "      <td>1.0</td>\n",
       "      <td>Hospitalized</td>\n",
       "    </tr>\n",
       "    <tr>\n",
       "      <th>4794</th>\n",
       "      <td>14803.0</td>\n",
       "      <td>14/05/2020</td>\n",
       "      <td>Karnataka</td>\n",
       "      <td>1.0</td>\n",
       "      <td>Hospitalized</td>\n",
       "    </tr>\n",
       "  </tbody>\n",
       "</table>\n",
       "</div>"
      ],
      "text/plain": [
       "      Entry_ID        Date      State  Num_Cases Current_Status\n",
       "4790   14799.0  14/05/2020  Karnataka        1.0   Hospitalized\n",
       "4791   14800.0  14/05/2020  Karnataka        1.0   Hospitalized\n",
       "4792   14801.0  14/05/2020  Karnataka        1.0   Hospitalized\n",
       "4793   14802.0  14/05/2020  Karnataka        1.0   Hospitalized\n",
       "4794   14803.0  14/05/2020  Karnataka        1.0   Hospitalized"
      ]
     },
     "execution_count": 11,
     "metadata": {},
     "output_type": "execute_result"
    }
   ],
   "source": [
    "df.tail()"
   ]
  },
  {
   "cell_type": "code",
   "execution_count": 12,
   "metadata": {},
   "outputs": [],
   "source": [
    "#Specify Data folder\n",
    "data_folder2 = Path(\"../data/\")\n",
    "fname2 = ydate +\".csv\"\n",
    "file_path2 = data_folder2 / fname2\n",
    "\n",
    "#Export to CSV\n",
    "df.to_csv(file_path2)"
   ]
  },
  {
   "cell_type": "code",
   "execution_count": 13,
   "metadata": {},
   "outputs": [
    {
     "name": "stdout",
     "output_type": "stream",
     "text": [
      "<class 'pandas.core.frame.DataFrame'>\n",
      "Int64Index: 4048 entries, 0 to 4794\n",
      "Data columns (total 5 columns):\n",
      "Entry_ID          4048 non-null int64\n",
      "Date              4048 non-null object\n",
      "State             4048 non-null object\n",
      "Num_Cases         4048 non-null float64\n",
      "Current_Status    4048 non-null object\n",
      "dtypes: float64(1), int64(1), object(3)\n",
      "memory usage: 189.8+ KB\n"
     ]
    }
   ],
   "source": [
    "df2.info()"
   ]
  },
  {
   "cell_type": "code",
   "execution_count": null,
   "metadata": {},
   "outputs": [],
   "source": []
  },
  {
   "cell_type": "code",
   "execution_count": null,
   "metadata": {},
   "outputs": [],
   "source": []
  }
 ],
 "metadata": {
  "kernelspec": {
   "display_name": "Python 3",
   "language": "python",
   "name": "python3"
  },
  "language_info": {
   "codemirror_mode": {
    "name": "ipython",
    "version": 3
   },
   "file_extension": ".py",
   "mimetype": "text/x-python",
   "name": "python",
   "nbconvert_exporter": "python",
   "pygments_lexer": "ipython3",
   "version": "3.7.1"
  }
 },
 "nbformat": 4,
 "nbformat_minor": 2
}
