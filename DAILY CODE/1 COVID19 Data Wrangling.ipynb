{
 "cells": [
  {
   "cell_type": "markdown",
   "metadata": {},
   "source": [
    "# Preparation for Data Assimilation"
   ]
  },
  {
   "cell_type": "code",
   "execution_count": 1,
   "metadata": {},
   "outputs": [],
   "source": [
    "import pandas as pd\n",
    "import numpy as np\n",
    "from datetime import date\n",
    "from datetime import timedelta\n",
    "import time\n",
    "from pathlib import Path \n",
    "import os"
   ]
  },
  {
   "cell_type": "markdown",
   "metadata": {},
   "source": [
    "Note: I generally drop the current day's data in the daily analysis since it's incomplete and makes the graphs inaccurate. So I've designed the code in such a way that it saves the export file in the name of the previous day's date. Data for the current day is also present in the exported file even though the file is named after the previous day."
   ]
  },
  {
   "cell_type": "code",
   "execution_count": 2,
   "metadata": {},
   "outputs": [],
   "source": [
    "#Find yesterday's date and convert it to string\n",
    "today=date.today()\n",
    "yesterday=today-timedelta(days=1)\n",
    "ydate=yesterday.strftime(\"%d-%m-%Y\")"
   ]
  },
  {
   "cell_type": "markdown",
   "metadata": {},
   "source": [
    "# Setting up directories and file paths"
   ]
  },
  {
   "cell_type": "code",
   "execution_count": 3,
   "metadata": {},
   "outputs": [],
   "source": [
    "data_folder=Path(\"../data\") #Change the path to desired location of yours"
   ]
  },
  {
   "cell_type": "markdown",
   "metadata": {},
   "source": [
    "# Download Data from API"
   ]
  },
  {
   "cell_type": "code",
   "execution_count": 4,
   "metadata": {},
   "outputs": [],
   "source": [
    "#Specify URLs\n",
    "url_r1=\"https://api.covid19india.org/csv/latest/raw_data1.csv\"\n",
    "url_r2=\"https://api.covid19india.org/csv/latest/raw_data2.csv\"\n",
    "url_r3=\"https://api.covid19india.org/csv/latest/raw_data3.csv\"\n",
    "url_r4=\"https://api.covid19india.org/csv/latest/raw_data4.csv\"\n",
    "url_r5=\"https://api.covid19india.org/csv/latest/raw_data5.csv\"\n",
    "url_dnr1=\"https://api.covid19india.org/csv/latest/death_and_recovered1.csv\"\n",
    "url_dnr2=\"https://api.covid19india.org/csv/latest/death_and_recovered2.csv\""
   ]
  },
  {
   "cell_type": "code",
   "execution_count": 5,
   "metadata": {},
   "outputs": [],
   "source": [
    "#Creating Data Frames\n",
    "raw_1=pd.read_csv(url_r1)\n",
    "raw_2=pd.read_csv(url_r2)\n",
    "raw_3=pd.read_csv(url_r3)\n",
    "raw_4=pd.read_csv(url_r4)\n",
    "raw_5=pd.read_csv(url_r5)\n",
    "dnr_1=pd.read_csv(url_dnr1)\n",
    "dnr_2=pd.read_csv(url_dnr2)"
   ]
  },
  {
   "cell_type": "markdown",
   "metadata": {},
   "source": [
    "# Things to do"
   ]
  },
  {
   "cell_type": "markdown",
   "metadata": {},
   "source": [
    "1. Join raw1 and 2 \n",
    "2. Change Current Status - Hospitalized\n",
    "3. Join DNR1 and 2 \n",
    "4. Match DNR12 columns to Raw12\n",
    "5. Append DNR12 to Raw12\n",
    "6. Join Raw3, 4, 5 and append to the above"
   ]
  },
  {
   "cell_type": "markdown",
   "metadata": {},
   "source": [
    "# Make Changes as per Things to do"
   ]
  },
  {
   "cell_type": "code",
   "execution_count": 6,
   "metadata": {},
   "outputs": [],
   "source": [
    "# Concatenate raw 1&2, raw3&4, dnr1&2\n",
    "frame1=[raw_1, raw_2]\n",
    "frame2=[raw_3, raw_4, raw_5]\n",
    "frame3=[dnr_1, dnr_2]\n",
    "\n",
    "raw_12=pd.concat(frame1)\n",
    "raw_345=pd.concat(frame2)\n",
    "dnr_12=pd.concat(frame3)"
   ]
  },
  {
   "cell_type": "code",
   "execution_count": 7,
   "metadata": {},
   "outputs": [],
   "source": [
    "#Change all values of Current Status to Hospitalized\n",
    "raw_12['Current Status']=\"Hospitalized\""
   ]
  },
  {
   "cell_type": "code",
   "execution_count": 8,
   "metadata": {},
   "outputs": [],
   "source": [
    "#Clean Raw data 12, select columns in specific order and rename in a standard format\n",
    "raw_12=raw_12[['Date Announced', 'Age Bracket', 'Gender', 'Detected District', 'Detected State', 'Current Status']]\n",
    "raw_12.rename(columns={'Date Announced':'Date', 'Age Bracket':'Age', 'Detected District':'District', 'Detected State':'State', 'Current Status':'Status'}, inplace=True)"
   ]
  },
  {
   "cell_type": "code",
   "execution_count": 9,
   "metadata": {},
   "outputs": [],
   "source": [
    "#Clean DNR data 12, select columns in specific order and rename in a standard format\n",
    "dnr_12=dnr_12[['Date', 'Age Bracket', 'Gender', 'District', 'State', 'Patient_Status']]\n",
    "dnr_12.rename(columns={'Age Bracket':'Age', 'Patient_Status':'Status'}, inplace=True)"
   ]
  },
  {
   "cell_type": "code",
   "execution_count": 10,
   "metadata": {},
   "outputs": [],
   "source": [
    "#Join raw12 with dnr12 and add num_cases as 1 for all rows\n",
    "frame4=[raw_12, dnr_12]\n",
    "preraw=pd.concat(frame4)\n",
    "preraw['Num_Cases']=1"
   ]
  },
  {
   "cell_type": "code",
   "execution_count": 11,
   "metadata": {},
   "outputs": [],
   "source": [
    "#Clean raw data 345, select columns in specific order and rename in a standard format\n",
    "raw_345=raw_345[['Date Announced', 'Age Bracket', 'Gender', 'Detected District', 'Detected State', 'Current Status', 'Num Cases']]\n",
    "raw_345.rename(columns={'Date Announced':'Date', 'Age Bracket':'Age', 'Detected District':'District', 'Detected State':'State', 'Current Status':'Status', 'Num Cases':'Num_Cases'}, inplace=True)"
   ]
  },
  {
   "cell_type": "code",
   "execution_count": 12,
   "metadata": {},
   "outputs": [],
   "source": [
    "#Join preraw and raw34 to final raw data\n",
    "frame5=[preraw, raw_345]\n",
    "raw_data=pd.concat(frame5)"
   ]
  },
  {
   "cell_type": "code",
   "execution_count": 13,
   "metadata": {},
   "outputs": [],
   "source": [
    "# Final Cleaning of data\n",
    "raw_data=raw_data.dropna(subset=['Num_Cases']) #Drop rows where num_cases are empty\n",
    "raw_data=raw_data.dropna(subset=['State']) #Drop rows where State data is not available\n",
    "raw_data['Date']= pd.to_datetime(raw_data['Date'], dayfirst=True) #Change format of Date to datetime format\n",
    "raw_data['Num_Cases']=pd.to_numeric(raw_data['Num_Cases'], downcast='integer') #Change format of num_cases to integer\n",
    "raw_data.reset_index(drop=True,inplace=True) #resets index so that there's continuous numbering. Just for the looks."
   ]
  },
  {
   "cell_type": "markdown",
   "metadata": {},
   "source": [
    "# Export final cleaned data to data folder"
   ]
  },
  {
   "cell_type": "code",
   "execution_count": 14,
   "metadata": {},
   "outputs": [
    {
     "name": "stdout",
     "output_type": "stream",
     "text": [
      "Done\n"
     ]
    }
   ],
   "source": [
    "#Export raw_data to yesterday's date.csv in the data folder\n",
    "fname=ydate+\".csv\"\n",
    "fpath=data_folder/fname\n",
    "raw_data.to_csv(fpath)\n",
    "print('Done')"
   ]
  },
  {
   "cell_type": "markdown",
   "metadata": {},
   "source": [
    "This exported data can be used for further analysis and contains most of the important data required for time-series analysis. "
   ]
  },
  {
   "cell_type": "code",
   "execution_count": 15,
   "metadata": {},
   "outputs": [
    {
     "data": {
      "text/html": [
       "<div>\n",
       "<style scoped>\n",
       "    .dataframe tbody tr th:only-of-type {\n",
       "        vertical-align: middle;\n",
       "    }\n",
       "\n",
       "    .dataframe tbody tr th {\n",
       "        vertical-align: top;\n",
       "    }\n",
       "\n",
       "    .dataframe thead th {\n",
       "        text-align: right;\n",
       "    }\n",
       "</style>\n",
       "<table border=\"1\" class=\"dataframe\">\n",
       "  <thead>\n",
       "    <tr style=\"text-align: right;\">\n",
       "      <th></th>\n",
       "      <th>Date</th>\n",
       "      <th>Age</th>\n",
       "      <th>Gender</th>\n",
       "      <th>District</th>\n",
       "      <th>State</th>\n",
       "      <th>Status</th>\n",
       "      <th>Num_Cases</th>\n",
       "    </tr>\n",
       "  </thead>\n",
       "  <tbody>\n",
       "    <tr>\n",
       "      <th>72487</th>\n",
       "      <td>2020-05-29</td>\n",
       "      <td>NaN</td>\n",
       "      <td>NaN</td>\n",
       "      <td>Kamrup Metropolitan</td>\n",
       "      <td>Assam</td>\n",
       "      <td>Recovered</td>\n",
       "      <td>6</td>\n",
       "    </tr>\n",
       "    <tr>\n",
       "      <th>72488</th>\n",
       "      <td>2020-05-29</td>\n",
       "      <td>NaN</td>\n",
       "      <td>NaN</td>\n",
       "      <td>Nainital</td>\n",
       "      <td>Uttarakhand</td>\n",
       "      <td>Hospitalized</td>\n",
       "      <td>1</td>\n",
       "    </tr>\n",
       "    <tr>\n",
       "      <th>72489</th>\n",
       "      <td>2020-05-29</td>\n",
       "      <td>NaN</td>\n",
       "      <td>NaN</td>\n",
       "      <td>Dehradun</td>\n",
       "      <td>Uttarakhand</td>\n",
       "      <td>Recovered</td>\n",
       "      <td>3</td>\n",
       "    </tr>\n",
       "    <tr>\n",
       "      <th>72490</th>\n",
       "      <td>2020-05-29</td>\n",
       "      <td>NaN</td>\n",
       "      <td>NaN</td>\n",
       "      <td>Nainital</td>\n",
       "      <td>Uttarakhand</td>\n",
       "      <td>Recovered</td>\n",
       "      <td>-8</td>\n",
       "    </tr>\n",
       "    <tr>\n",
       "      <th>72491</th>\n",
       "      <td>2020-05-29</td>\n",
       "      <td>NaN</td>\n",
       "      <td>NaN</td>\n",
       "      <td>Udham Singh Nagar</td>\n",
       "      <td>Uttarakhand</td>\n",
       "      <td>Recovered</td>\n",
       "      <td>15</td>\n",
       "    </tr>\n",
       "  </tbody>\n",
       "</table>\n",
       "</div>"
      ],
      "text/plain": [
       "            Date  Age Gender             District        State        Status  \\\n",
       "72487 2020-05-29  NaN    NaN  Kamrup Metropolitan        Assam     Recovered   \n",
       "72488 2020-05-29  NaN    NaN             Nainital  Uttarakhand  Hospitalized   \n",
       "72489 2020-05-29  NaN    NaN             Dehradun  Uttarakhand     Recovered   \n",
       "72490 2020-05-29  NaN    NaN             Nainital  Uttarakhand     Recovered   \n",
       "72491 2020-05-29  NaN    NaN    Udham Singh Nagar  Uttarakhand     Recovered   \n",
       "\n",
       "       Num_Cases  \n",
       "72487          6  \n",
       "72488          1  \n",
       "72489          3  \n",
       "72490         -8  \n",
       "72491         15  "
      ]
     },
     "execution_count": 15,
     "metadata": {},
     "output_type": "execute_result"
    }
   ],
   "source": [
    "raw_data.tail()"
   ]
  },
  {
   "cell_type": "code",
   "execution_count": null,
   "metadata": {},
   "outputs": [],
   "source": []
  },
  {
   "cell_type": "code",
   "execution_count": null,
   "metadata": {},
   "outputs": [],
   "source": []
  }
 ],
 "metadata": {
  "kernelspec": {
   "display_name": "Python 3",
   "language": "python",
   "name": "python3"
  },
  "language_info": {
   "codemirror_mode": {
    "name": "ipython",
    "version": 3
   },
   "file_extension": ".py",
   "mimetype": "text/x-python",
   "name": "python",
   "nbconvert_exporter": "python",
   "pygments_lexer": "ipython3",
   "version": "3.7.1"
  }
 },
 "nbformat": 4,
 "nbformat_minor": 2
}
