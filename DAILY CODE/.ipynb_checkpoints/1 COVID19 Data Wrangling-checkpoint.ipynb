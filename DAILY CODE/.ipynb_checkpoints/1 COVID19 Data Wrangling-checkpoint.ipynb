{
 "cells": [
  {
   "cell_type": "markdown",
   "metadata": {},
   "source": [
    "# Preparation for Data Assimilation"
   ]
  },
  {
   "cell_type": "code",
   "execution_count": 18,
   "metadata": {},
   "outputs": [],
   "source": [
    "import pandas as pd\n",
    "import numpy as np\n",
    "from datetime import date\n",
    "from datetime import timedelta\n",
    "import time\n",
    "from pathlib import Path \n",
    "import os"
   ]
  },
  {
   "cell_type": "markdown",
   "metadata": {},
   "source": [
    "Note: I generally drop the current day's data in the daily analysis since it's incomplete and makes the graphs inaccurate. So I've designed the code in such a way that it saves the export file in the name of the previous day's date. Data for the current day is also present in the exported file even though the file is named after the previous day."
   ]
  },
  {
   "cell_type": "code",
   "execution_count": 19,
   "metadata": {},
   "outputs": [],
   "source": [
    "#Find yesterday's date and convert it to string\n",
    "today=date.today()\n",
    "yesterday=today-timedelta(days=1)\n",
    "ydate=yesterday.strftime(\"%d-%m-%Y\")"
   ]
  },
  {
   "cell_type": "markdown",
   "metadata": {},
   "source": [
    "# Setting up directories and file paths"
   ]
  },
  {
   "cell_type": "code",
   "execution_count": 20,
   "metadata": {},
   "outputs": [],
   "source": [
    "data_folder=Path(\"../data\") #Change the path to desired location of yours"
   ]
  },
  {
   "cell_type": "markdown",
   "metadata": {},
   "source": [
    "# Download Data from API"
   ]
  },
  {
   "cell_type": "code",
   "execution_count": 21,
   "metadata": {},
   "outputs": [],
   "source": [
    "#Specify URLs\n",
    "url_r1=\"https://api.covid19india.org/csv/latest/raw_data1.csv\"\n",
    "url_r2=\"https://api.covid19india.org/csv/latest/raw_data2.csv\"\n",
    "url_r3=\"https://api.covid19india.org/csv/latest/raw_data3.csv\"\n",
    "url_r4=\"https://api.covid19india.org/csv/latest/raw_data4.csv\"\n",
    "url_dnr1=\"https://api.covid19india.org/csv/latest/death_and_recovered1.csv\"\n",
    "url_dnr2=\"https://api.covid19india.org/csv/latest/death_and_recovered2.csv\""
   ]
  },
  {
   "cell_type": "code",
   "execution_count": 22,
   "metadata": {},
   "outputs": [],
   "source": [
    "#Creating Data Frames\n",
    "raw_1=pd.read_csv(url_r1)\n",
    "raw_2=pd.read_csv(url_r2)\n",
    "raw_3=pd.read_csv(url_r3)\n",
    "raw_4=pd.read_csv(url_r4)\n",
    "dnr_1=pd.read_csv(url_dnr1)\n",
    "dnr_2=pd.read_csv(url_dnr2)"
   ]
  },
  {
   "cell_type": "markdown",
   "metadata": {},
   "source": [
    "# Things to do"
   ]
  },
  {
   "cell_type": "markdown",
   "metadata": {},
   "source": [
    "1. Join raw1 and 2 \n",
    "2. Change Current Status - Hospitalized\n",
    "3. Join DNR1 and 2 \n",
    "4. Match DNR12 columns to Raw12\n",
    "5. Append DNR12 to Raw12\n",
    "6. Join Raw3 and 4 and append to the above"
   ]
  },
  {
   "cell_type": "markdown",
   "metadata": {},
   "source": [
    "# Make Changes as per Things to do"
   ]
  },
  {
   "cell_type": "code",
   "execution_count": 23,
   "metadata": {},
   "outputs": [],
   "source": [
    "# Concatenate raw 1&2, raw3&4, dnr1&2\n",
    "frame1=[raw_1, raw_2]\n",
    "frame2=[raw_3, raw_4]\n",
    "frame3=[dnr_1, dnr_2]\n",
    "\n",
    "raw_12=pd.concat(frame1)\n",
    "raw_34=pd.concat(frame2)\n",
    "dnr_12=pd.concat(frame3)"
   ]
  },
  {
   "cell_type": "code",
   "execution_count": 24,
   "metadata": {},
   "outputs": [],
   "source": [
    "#Change all values of Current Status to Hospitalized\n",
    "raw_12['Current Status']=\"Hospitalized\""
   ]
  },
  {
   "cell_type": "code",
   "execution_count": 25,
   "metadata": {},
   "outputs": [],
   "source": [
    "#Clean Raw data 12, select columns in specific order and rename in a standard format\n",
    "raw_12=raw_12[['Date Announced', 'Age Bracket', 'Gender', 'Detected District', 'Detected State', 'Current Status']]\n",
    "raw_12.rename(columns={'Date Announced':'Date', 'Age Bracket':'Age', 'Detected District':'District', 'Detected State':'State', 'Current Status':'Status'}, inplace=True)"
   ]
  },
  {
   "cell_type": "code",
   "execution_count": 26,
   "metadata": {},
   "outputs": [],
   "source": [
    "#Clean DNR data 12, select columns in specific order and rename in a standard format\n",
    "dnr_12=dnr_12[['Date', 'Age Bracket', 'Gender', 'District', 'State', 'Patient_Status']]\n",
    "dnr_12.rename(columns={'Age Bracket':'Age', 'Patient_Status':'Status'}, inplace=True)"
   ]
  },
  {
   "cell_type": "code",
   "execution_count": 27,
   "metadata": {},
   "outputs": [],
   "source": [
    "#Join raw12 with dnr12 and add num_cases as 1 for all rows\n",
    "frame4=[raw_12, dnr_12]\n",
    "preraw=pd.concat(frame4)\n",
    "preraw['Num_Cases']=1"
   ]
  },
  {
   "cell_type": "code",
   "execution_count": 28,
   "metadata": {},
   "outputs": [],
   "source": [
    "#Clean raw data 34, select columns in specific order and rename in a standard format\n",
    "raw_34=raw_34[['Date Announced', 'Age Bracket', 'Gender', 'Detected District', 'Detected State', 'Current Status', 'Num Cases']]\n",
    "raw_34.rename(columns={'Date Announced':'Date', 'Age Bracket':'Age', 'Detected District':'District', 'Detected State':'State', 'Current Status':'Status', 'Num Cases':'Num_Cases'}, inplace=True)"
   ]
  },
  {
   "cell_type": "code",
   "execution_count": 29,
   "metadata": {},
   "outputs": [],
   "source": [
    "#Join preraw and raw34 to final raw data\n",
    "frame5=[preraw, raw_34]\n",
    "raw_data=pd.concat(frame5)"
   ]
  },
  {
   "cell_type": "code",
   "execution_count": 30,
   "metadata": {},
   "outputs": [],
   "source": [
    "# Final Cleaning of data\n",
    "raw_data=raw_data.dropna(subset=['Num_Cases']) #Drop rows where num_cases are empty\n",
    "raw_data=raw_data.dropna(subset=['State']) #Drop rows where State data is not available\n",
    "raw_data['Date']= pd.to_datetime(raw_data['Date'], dayfirst=True) #Change format of Date to datetime format\n",
    "raw_data['Num_Cases']=pd.to_numeric(raw_data['Num_Cases'], downcast='integer') #Change format of num_cases to integer\n",
    "raw_data.reset_index(drop=True,inplace=True) #resets index so that there's continuous numbering. Just for the looks."
   ]
  },
  {
   "cell_type": "markdown",
   "metadata": {},
   "source": [
    "# Export final cleaned data to data folder"
   ]
  },
  {
   "cell_type": "code",
   "execution_count": 31,
   "metadata": {},
   "outputs": [
    {
     "name": "stdout",
     "output_type": "stream",
     "text": [
      "Done\n"
     ]
    }
   ],
   "source": [
    "#Export raw_data to yesterday's date.csv in the data folder\n",
    "fname=ydate+\".csv\"\n",
    "fpath=data_folder/fname\n",
    "raw_data.to_csv(fpath)\n",
    "print('Done')"
   ]
  },
  {
   "cell_type": "markdown",
   "metadata": {},
   "source": [
    "This exported data can be used for further analysis and contains most of the important data required for time-series analysis. "
   ]
  },
  {
   "cell_type": "code",
   "execution_count": null,
   "metadata": {},
   "outputs": [],
   "source": []
  },
  {
   "cell_type": "code",
   "execution_count": null,
   "metadata": {},
   "outputs": [],
   "source": []
  }
 ],
 "metadata": {
  "kernelspec": {
   "display_name": "Python 3",
   "language": "python",
   "name": "python3"
  },
  "language_info": {
   "codemirror_mode": {
    "name": "ipython",
    "version": 3
   },
   "file_extension": ".py",
   "mimetype": "text/x-python",
   "name": "python",
   "nbconvert_exporter": "python",
   "pygments_lexer": "ipython3",
   "version": "3.7.1"
  }
 },
 "nbformat": 4,
 "nbformat_minor": 2
}
